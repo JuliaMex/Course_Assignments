{
 "cells": [
  {
   "cell_type": "markdown",
   "id": "d94a770b-4e84-4f38-85ff-7e20aefe938f",
   "metadata": {},
   "source": [
    "# Data Science Tools and Ecosystem"
   ]
  },
  {
   "cell_type": "markdown",
   "id": "7f76a5a4-40f7-4321-b57d-6b22a455f8d0",
   "metadata": {},
   "source": [
    "## In this notebook, Data Science Tools and Ecosystem are summarized."
   ]
  },
  {
   "cell_type": "markdown",
   "id": "23f8fd69-c986-4dd5-bc1d-c92aa34f43cf",
   "metadata": {},
   "source": [
    "Objectives of this exercise:\n",
    "* List popular languages for Data Science\n",
    "* List common library used by Data Scientists\n",
    "* Practise using Markdown\n",
    "* Practise using Jypiter Notebook"
   ]
  },
  {
   "cell_type": "markdown",
   "id": "30065205-ad96-4eb4-97fb-9b08bcc54e71",
   "metadata": {},
   "source": [
    "### Some of the popular languages that Data Scientists use are:"
   ]
  },
  {
   "cell_type": "markdown",
   "id": "25e33046-3909-47cf-8d7f-3fc03b3c764a",
   "metadata": {},
   "source": [
    "1. R\n",
    "2. python\n",
    "3. Julia\n",
    "4. Java\n",
    "5. Matlab"
   ]
  },
  {
   "cell_type": "markdown",
   "id": "9a817cd0-c1e3-460f-9682-e4cee06ec7f6",
   "metadata": {},
   "source": [
    "### Some of the commonly used libraries used by Data Scientists include:\n",
    "\n",
    "1. Panda\n",
    "2. NumPy\n",
    "3. Tensorflow\n"
   ]
  },
  {
   "cell_type": "markdown",
   "id": "c304a1a9-28e3-4667-b8f2-caf2b0d101c2",
   "metadata": {},
   "source": [
    "#### Development environment open source tools used in data science:\n",
    "\n",
    "|Data Science Tools| \n",
    "|------|\n",
    "|Jypiter Notebook|\n",
    "|RStudio|\n",
    "|Spyder|"
   ]
  },
  {
   "cell_type": "markdown",
   "id": "19c40ee3-9504-498c-893b-55763c82b2d9",
   "metadata": {},
   "source": [
    "### Below are a few examples of evaluating arithmetic expressions in Python"
   ]
  },
  {
   "cell_type": "markdown",
   "id": "777ff28b-f306-443f-8f9b-39b637907ccb",
   "metadata": {},
   "source": [
    "Addition, subtraction, and multiplication and division work the usual way with the operators: + - * /"
   ]
  },
  {
   "cell_type": "code",
   "execution_count": 1,
   "id": "352def19-5cc2-4f8c-95a4-69b9a8fa0c41",
   "metadata": {
    "tags": []
   },
   "outputs": [
    {
     "name": "stdout",
     "output_type": "stream",
     "text": [
      "10\n"
     ]
    }
   ],
   "source": [
    "print(3+7)"
   ]
  },
  {
   "cell_type": "code",
   "execution_count": 2,
   "id": "bac882ec-8409-4220-b3f6-3a58eff08697",
   "metadata": {
    "tags": []
   },
   "outputs": [
    {
     "name": "stdout",
     "output_type": "stream",
     "text": [
      "25\n"
     ]
    }
   ],
   "source": [
    "print(5*5)"
   ]
  },
  {
   "cell_type": "markdown",
   "id": "a23d067a-9ae3-4f96-8671-e714379a764a",
   "metadata": {},
   "source": [
    "Writing print() with the arithmetic expression inside in a code field and sending it, will give back the result of the expression, as shown above."
   ]
  },
  {
   "cell_type": "code",
   "execution_count": 3,
   "id": "bdca32c2-9f90-40ab-8f63-da7e3acc2235",
   "metadata": {
    "tags": []
   },
   "outputs": [
    {
     "data": {
      "text/plain": [
       "17"
      ]
     },
     "execution_count": 3,
     "metadata": {},
     "output_type": "execute_result"
    }
   ],
   "source": [
    "# This a simple arithmetic expression to mutiply then add integers\n",
    "(3*4)+5"
   ]
  },
  {
   "cell_type": "code",
   "execution_count": 4,
   "id": "7976077f-1ad1-46db-9277-7c48a07ebfdd",
   "metadata": {
    "tags": []
   },
   "outputs": [
    {
     "data": {
      "text/plain": [
       "3.3333333333333335"
      ]
     },
     "execution_count": 4,
     "metadata": {},
     "output_type": "execute_result"
    }
   ],
   "source": [
    "#This will convert 200 minutes to hours by diving by 60\n",
    "200/60"
   ]
  },
  {
   "cell_type": "markdown",
   "id": "f91829ae-34c2-415c-b5e2-bc37e6583303",
   "metadata": {},
   "source": [
    "## Author:\n",
    "Helena E."
   ]
  },
  {
   "cell_type": "code",
   "execution_count": null,
   "id": "70081c05-ee5f-4dda-a67e-b86cb3faa030",
   "metadata": {},
   "outputs": [],
   "source": []
  }
 ],
 "metadata": {
  "kernelspec": {
   "display_name": "Python",
   "language": "python",
   "name": "conda-env-python-py"
  },
  "language_info": {
   "codemirror_mode": {
    "name": "ipython",
    "version": 3
   },
   "file_extension": ".py",
   "mimetype": "text/x-python",
   "name": "python",
   "nbconvert_exporter": "python",
   "pygments_lexer": "ipython3",
   "version": "3.7.12"
  }
 },
 "nbformat": 4,
 "nbformat_minor": 5
}
